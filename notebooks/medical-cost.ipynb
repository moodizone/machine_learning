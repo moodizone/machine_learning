{
 "cells": [
  {
   "cell_type": "code",
   "execution_count": 3,
   "metadata": {},
   "outputs": [],
   "source": [
    "import pandas as pd\n",
    "import numpy as np\n",
    "import seaborn as sns\n",
    "import matplotlib.pyplot as plt\n",
    "from src.utils.kaggle import read_data_set\n",
    "\n",
    "df = read_data_set(\"data/raw/insurance.csv\")"
   ]
  },
  {
   "cell_type": "markdown",
   "metadata": {},
   "source": [
    "## Dataset Characteristics\n",
    "\n",
    "| Feature     | Definition                                                                                                                            | Unit                     |\n",
    "| ----------- | ------------------------------------------------------------------------------------------------------------------------------------- | ------------------------ |\n",
    "| age         | age of primary beneficiary                                                                                                            | int64                    |\n",
    "| sex         | insurance contractor gender                                                                                                           | object (female and male) |\n",
    "| bmi         | Body mass index, providing an understanding of body, weights that are relatively high or low relative to height, ideally 18.5 to 24.9 | float64                  |\n",
    "| children    | Number of children covered by health insurance / Number of dependents                                                                 | int64                    |\n",
    "| smoker      | Smoking status                                                                                                                        | object (yes, no)         |\n",
    "| region      | the beneficiary's residential area in the US, [northeast, southeast, southwest, northwest]                                            | object                   |\n",
    "| **charges** | **Individual medical costs billed by health insurance**                                                                               | **float64**              |\n",
    "\n",
    "[Source](https://www.kaggle.com/datasets/mirichoi0218/insurance/data)\n"
   ]
  }
 ],
 "metadata": {
  "kernelspec": {
   "display_name": ".venv",
   "language": "python",
   "name": "python3"
  },
  "language_info": {
   "codemirror_mode": {
    "name": "ipython",
    "version": 3
   },
   "file_extension": ".py",
   "mimetype": "text/x-python",
   "name": "python",
   "nbconvert_exporter": "python",
   "pygments_lexer": "ipython3",
   "version": "3.12.7"
  }
 },
 "nbformat": 4,
 "nbformat_minor": 2
}
