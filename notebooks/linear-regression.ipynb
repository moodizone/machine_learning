{
 "cells": [
  {
   "cell_type": "code",
   "execution_count": null,
   "id": "a7fff093",
   "metadata": {},
   "outputs": [
    {
     "name": "stdout",
     "output_type": "stream",
     "text": [
      "Index(['Country', 'Year', 'Status', 'Life expectancy ', 'Adult Mortality',\n",
      "       'infant deaths', 'Alcohol', 'percentage expenditure', 'Hepatitis B',\n",
      "       'Measles ', ' BMI ', 'under-five deaths ', 'Polio', 'Total expenditure',\n",
      "       'Diphtheria ', ' HIV/AIDS', 'GDP', 'Population',\n",
      "       ' thinness  1-19 years', ' thinness 5-9 years',\n",
      "       'Income composition of resources', 'Schooling'],\n",
      "      dtype='object')\n"
     ]
    }
   ],
   "source": [
    "import numpy as np\n",
    "import matplotlib.pyplot as plt\n",
    "from itertools import chain\n",
    "from src.linear_regression import read_data_set\n",
    "\n",
    "# import data as data frame\n",
    "df = read_data_set()\n",
    "cols = df.columns\n",
    "\n",
    "# After close observation, I decided to display similar features in terms of plotting alongside each other\n",
    "paired_features = [\n",
    "    [\"infant deaths\", \"under-five deaths \"],\n",
    "    [\"Schooling\", \"Income composition of resources\"],\n",
    "    [\n",
    "        \"Diphtheria \",\n",
    "        \"Polio\",\n",
    "    ],\n",
    "    [\"GDP\", \"percentage expenditure\"],\n",
    "    [\" thinness  1-19 years\", \" thinness 5-9 years\"],\n",
    "]\n",
    "flattened_paired_features = list(chain(*paired_features))\n",
    "\n",
    "# do not plot these features\n",
    "archived_feature = [\"Country\", \"Year\", \"Life expectancy \", \"Status\"]\n",
    "print(cols)"
   ]
  },
  {
   "cell_type": "code",
   "execution_count": null,
   "id": "376083b7",
   "metadata": {},
   "outputs": [],
   "source": [
    "for row in paired_features:\n",
    "    plot_index = 0\n",
    "    fig, axes = plt.subplots(1, len(row), figsize=(15, 3))\n",
    "    axes = axes.flatten()\n",
    "\n",
    "    for col in row:\n",
    "        ax = axes[plot_index]\n",
    "\n",
    "        for status in df[\"Status\"].unique():\n",
    "            subset = df[df[\"Status\"] == status]\n",
    "            ax.scatter(\n",
    "                subset[\"Life expectancy \"],\n",
    "                subset[col],\n",
    "                alpha=0.7,\n",
    "            )\n",
    "        ax.set_xlabel(\"Life expectancy \")\n",
    "        ax.set_ylabel(col)\n",
    "        plot_index += 1"
   ]
  },
  {
   "cell_type": "code",
   "execution_count": null,
   "id": "84f75fe3",
   "metadata": {},
   "outputs": [],
   "source": [
    "# solo_features by removing flattened_paired_features and archived_feature\n",
    "solo_features = [\n",
    "    feature\n",
    "    for feature in cols\n",
    "    if feature not in flattened_paired_features + archived_feature\n",
    "]\n",
    "# define the number of rows and columns for subplots\n",
    "num_cols_per_row = 3\n",
    "num_rows = int(np.ceil((len(solo_features)) / num_cols_per_row))\n",
    "fig, axes = plt.subplots(num_rows, num_cols_per_row, figsize=(15, 3 * num_rows))\n",
    "axes = axes.flatten()\n",
    "plot_index = 0\n",
    "\n",
    "for col in solo_features:\n",
    "    ax = axes[plot_index]\n",
    "\n",
    "    for status in df[\"Status\"].unique():\n",
    "        subset = df[df[\"Status\"] == status]\n",
    "        ax.scatter(\n",
    "            subset[\"Life expectancy \"],\n",
    "            subset[col],\n",
    "            alpha=0.7,\n",
    "        )\n",
    "    ax.set_xlabel(\"Life expectancy \")\n",
    "    ax.set_ylabel(col)\n",
    "    plot_index += 1\n",
    "\n",
    "# Remove any unused subplots\n",
    "for i in range(plot_index, len(axes)):\n",
    "    fig.delaxes(axes[i])\n",
    "\n",
    "plt.tight_layout()\n",
    "plt.show()"
   ]
  }
 ],
 "metadata": {
  "kernelspec": {
   "display_name": ".venv",
   "language": "python",
   "name": "python3"
  },
  "language_info": {
   "codemirror_mode": {
    "name": "ipython",
    "version": 3
   },
   "file_extension": ".py",
   "mimetype": "text/x-python",
   "name": "python",
   "nbconvert_exporter": "python",
   "pygments_lexer": "ipython3",
   "version": "3.12.7"
  }
 },
 "nbformat": 4,
 "nbformat_minor": 5
}
