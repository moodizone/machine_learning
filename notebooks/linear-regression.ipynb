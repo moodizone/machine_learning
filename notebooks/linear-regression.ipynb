{
 "cells": [
  {
   "cell_type": "code",
   "execution_count": 1,
   "id": "a7fff093",
   "metadata": {},
   "outputs": [
    {
     "data": {
      "text/plain": [
       "count     2426.000000\n",
       "mean      4792.531044\n",
       "std       8132.163928\n",
       "min          1.681350\n",
       "25%        464.452290\n",
       "50%       1877.508125\n",
       "75%       7483.158469\n",
       "max      88564.822980\n",
       "Name: GDP, dtype: float64"
      ]
     },
     "execution_count": 1,
     "metadata": {},
     "output_type": "execute_result"
    }
   ],
   "source": [
    "import numpy as np\n",
    "import matplotlib.pyplot as plt\n",
    "from sklearn.impute import SimpleImputer\n",
    "from src.linear_regression import read_data_set\n",
    "\n",
    "# import data as data frame\n",
    "df = read_data_set()\n",
    "\n",
    "# fill missing values with mean\n",
    "imputer = SimpleImputer(strategy=\"mean\", missing_values=np.nan)\n",
    "columns_to_impute = [\"Life expectancy \", \"GDP\"]\n",
    "df[columns_to_impute] = imputer.fit_transform(df[columns_to_impute])\n",
    "\n",
    "# data.shape/head/info/insnull/describe/hist/\n",
    "df[columns_to_impute].describe().T\n",
    "\n",
    "\n",
    "# Separate the data into developed and developing countries\n",
    "developed = df[df[\"Status\"] == \"Developed\"]\n",
    "developing = df[df[\"Status\"] == \"Developing\"]\n",
    "\n",
    "developed[\"GDP\"].describe().T\n",
    "developing[\"GDP\"].describe().T\n",
    " \n",
    "\n",
    "# plt.figure(figsize=(10, 6))\n",
    "# plt.hist(developed[\"GDP\"], bins=30, alpha=0.5, label=\"GDP (Developed)\")\n",
    "# plt.hist(developing[\"GDP\"], bins=30, alpha=0.5, label=\"GDP (Developing)\")\n",
    "# plt.title(\"Distribution of GDP for Developed and Developing Countries\")\n",
    "# plt.xlabel(\"Value\")\n",
    "# plt.ylabel(\"Frequency\")\n",
    "# plt.legend(loc=\"upper right\")\n",
    "# plt.grid(True)\n",
    "# plt.show()"
   ]
  }
 ],
 "metadata": {
  "kernelspec": {
   "display_name": ".venv",
   "language": "python",
   "name": "python3"
  },
  "language_info": {
   "codemirror_mode": {
    "name": "ipython",
    "version": 3
   },
   "file_extension": ".py",
   "mimetype": "text/x-python",
   "name": "python",
   "nbconvert_exporter": "python",
   "pygments_lexer": "ipython3",
   "version": "3.12.7"
  }
 },
 "nbformat": 4,
 "nbformat_minor": 5
}
